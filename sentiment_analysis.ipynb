{
 "cells": [
  {
   "cell_type": "code",
   "execution_count": 26,
   "metadata": {},
   "outputs": [],
   "source": [
    "sentences = [\n",
    "    \"I love this product!\",\n",
    "    \"This is the worst experience I've ever had.\",\n",
    "    \"Absolutely fantastic service!\",\n",
    "    \"I'm not happy with the quality of this item.\",\n",
    "    \"This movie is my favorite, had a great time watching it.\",\n",
    "    \"What a terrible disappointment!\",\n",
    "    \"I can't recommend this restaurant enough.\",\n",
    "    \"It was okay, nothing special.\",\n",
    "    \"The book was better than I expected.\",\n",
    "    \"I think this app is really buggy.\"\n",
    "]\n"
   ]
  },
  {
   "cell_type": "code",
   "execution_count": 27,
   "metadata": {},
   "outputs": [
    {
     "name": "stderr",
     "output_type": "stream",
     "text": [
      "No model was supplied, defaulted to distilbert/distilbert-base-uncased-finetuned-sst-2-english and revision af0f99b (https://huggingface.co/distilbert/distilbert-base-uncased-finetuned-sst-2-english).\n",
      "Using a pipeline without specifying a model name and revision in production is not recommended.\n"
     ]
    },
    {
     "name": "stdout",
     "output_type": "stream",
     "text": [
      "Sentence: I love this product!, Sentiment: [{'label': 'POSITIVE', 'score': 0.9998855590820312}]\n",
      "Sentence: This is the worst experience I've ever had., Sentiment: [{'label': 'NEGATIVE', 'score': 0.9997679591178894}]\n",
      "Sentence: Absolutely fantastic service!, Sentiment: [{'label': 'POSITIVE', 'score': 0.9998830556869507}]\n",
      "Sentence: I'm not happy with the quality of this item., Sentiment: [{'label': 'NEGATIVE', 'score': 0.9997339844703674}]\n",
      "Sentence: This movie is my favorite, had a great time watching it., Sentiment: [{'label': 'POSITIVE', 'score': 0.9997116923332214}]\n",
      "Sentence: What a terrible disappointment!, Sentiment: [{'label': 'NEGATIVE', 'score': 0.9998050332069397}]\n",
      "Sentence: I can't recommend this restaurant enough., Sentiment: [{'label': 'POSITIVE', 'score': 0.9938579201698303}]\n",
      "Sentence: It was okay, nothing special., Sentiment: [{'label': 'NEGATIVE', 'score': 0.9820851683616638}]\n",
      "Sentence: The book was better than I expected., Sentiment: [{'label': 'POSITIVE', 'score': 0.9994450211524963}]\n",
      "Sentence: I think this app is really buggy., Sentiment: [{'label': 'NEGATIVE', 'score': 0.9993977546691895}]\n",
      "Time taken with Hugging Face Transformers: 0.1602492332458496\n"
     ]
    }
   ],
   "source": [
    "from transformers import pipeline\n",
    "import time\n",
    "\n",
    "classifier = pipeline('sentiment-analysis')\n",
    "\n",
    "start_time = time.time()\n",
    "\n",
    "for sentence in sentences:\n",
    "    result = classifier(sentence)\n",
    "    print(f\"Sentence: {sentence}, Sentiment: {result}\")\n",
    "\n",
    "end_time = time.time()\n",
    "print(\"Time taken with Hugging Face Transformers:\", end_time - start_time)\n"
   ]
  },
  {
   "cell_type": "code",
   "execution_count": 28,
   "metadata": {},
   "outputs": [
    {
     "name": "stdout",
     "output_type": "stream",
     "text": [
      "Sentence: I love this product!, Sentiment: 0.625\n",
      "Sentence: This is the worst experience I've ever had., Sentiment: -1.0\n",
      "Sentence: Absolutely fantastic service!, Sentiment: 0.5\n",
      "Sentence: I'm not happy with the quality of this item., Sentiment: -0.4\n",
      "Sentence: This movie is my favorite, had a great time watching it., Sentiment: 0.65\n",
      "Sentence: What a terrible disappointment!, Sentiment: -0.875\n",
      "Sentence: I can't recommend this restaurant enough., Sentiment: 0.0\n",
      "Sentence: It was okay, nothing special., Sentiment: 0.4285714285714286\n",
      "Sentence: The book was better than I expected., Sentiment: 0.2\n",
      "Sentence: I think this app is really buggy., Sentiment: 0.2\n",
      "Time taken with TextBlob: 0.005119800567626953\n"
     ]
    }
   ],
   "source": [
    "from textblob import TextBlob\n",
    "import time\n",
    "\n",
    "start_time = time.time()\n",
    "\n",
    "for sentence in sentences:\n",
    "    blob = TextBlob(sentence)\n",
    "    print(f\"Sentence: {sentence}, Sentiment: {blob.sentiment.polarity}\")\n",
    "\n",
    "end_time = time.time()\n",
    "print(\"Time taken with TextBlob:\", end_time - start_time)\n",
    "\n",
    "\n"
   ]
  },
  {
   "cell_type": "code",
   "execution_count": 29,
   "metadata": {},
   "outputs": [
    {
     "name": "stdout",
     "output_type": "stream",
     "text": [
      "Sentence: I love this product!, Sentiment: {'neg': 0.0, 'neu': 0.308, 'pos': 0.692, 'compound': 0.6696}\n",
      "Sentence: This is the worst experience I've ever had., Sentiment: {'neg': 0.369, 'neu': 0.631, 'pos': 0.0, 'compound': -0.6249}\n",
      "Sentence: Absolutely fantastic service!, Sentiment: {'neg': 0.0, 'neu': 0.323, 'pos': 0.677, 'compound': 0.6352}\n",
      "Sentence: I'm not happy with the quality of this item., Sentiment: {'neg': 0.273, 'neu': 0.727, 'pos': 0.0, 'compound': -0.4585}\n",
      "Sentence: This movie is my favorite, had a great time watching it., Sentiment: {'neg': 0.0, 'neu': 0.53, 'pos': 0.47, 'compound': 0.7964}\n",
      "Sentence: What a terrible disappointment!, Sentiment: {'neg': 0.87, 'neu': 0.13, 'pos': 0.0, 'compound': -0.7712}\n",
      "Sentence: I can't recommend this restaurant enough., Sentiment: {'neg': 0.345, 'neu': 0.655, 'pos': 0.0, 'compound': -0.2755}\n",
      "Sentence: It was okay, nothing special., Sentiment: {'neg': 0.315, 'neu': 0.419, 'pos': 0.265, 'compound': -0.092}\n",
      "Sentence: The book was better than I expected., Sentiment: {'neg': 0.0, 'neu': 0.633, 'pos': 0.367, 'compound': 0.4404}\n",
      "Sentence: I think this app is really buggy., Sentiment: {'neg': 0.0, 'neu': 1.0, 'pos': 0.0, 'compound': 0.0}\n",
      "Time taken with VADER: 0.0020689964294433594\n"
     ]
    },
    {
     "name": "stderr",
     "output_type": "stream",
     "text": [
      "[nltk_data] Downloading package vader_lexicon to\n",
      "[nltk_data]     /Users/akshaymurali/nltk_data...\n",
      "[nltk_data]   Package vader_lexicon is already up-to-date!\n"
     ]
    }
   ],
   "source": [
    "import nltk\n",
    "from nltk.sentiment import SentimentIntensityAnalyzer\n",
    "import time\n",
    "\n",
    "nltk.download('vader_lexicon')\n",
    "sia = SentimentIntensityAnalyzer()\n",
    "\n",
    "start_time = time.time()\n",
    "\n",
    "\n",
    "for sentence in sentences:\n",
    "    print(f\"Sentence: {sentence}, Sentiment: {sia.polarity_scores(sentence)}\")\n",
    "\n",
    "end_time = time.time()\n",
    "\n",
    "print(\"Time taken with VADER:\", end_time - start_time)\n"
   ]
  },
  {
   "cell_type": "code",
   "execution_count": null,
   "metadata": {},
   "outputs": [],
   "source": []
  }
 ],
 "metadata": {
  "kernelspec": {
   "display_name": "Python 3",
   "language": "python",
   "name": "python3"
  },
  "language_info": {
   "codemirror_mode": {
    "name": "ipython",
    "version": 3
   },
   "file_extension": ".py",
   "mimetype": "text/x-python",
   "name": "python",
   "nbconvert_exporter": "python",
   "pygments_lexer": "ipython3",
   "version": "3.9.6"
  }
 },
 "nbformat": 4,
 "nbformat_minor": 2
}
