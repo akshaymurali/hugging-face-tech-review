{
 "cells": [
  {
   "cell_type": "code",
   "execution_count": null,
   "metadata": {},
   "outputs": [],
   "source": [
    "sample_text = \"\"\"Franklin Delano Roosevelt (January 30, 1882 – April 12, 1945), commonly known by his initials FDR, was an American statesman and politician who served as the 32nd president of the United States from 1933 until his death in 1945. He was a member of the Democratic Party and is the only U.S. president to have served more than two terms. His initial two terms were centered on combating the Great Depression, while his third and fourth saw him shift his focus to America's involvement in World War II.\n",
    "A member of the Delano family and Roosevelt family, after attending university, Roosevelt began to practice law in New York City. He was elected a member of the New York State Senate from 1911 to 1913 and was then the assistant secretary of the Navy under President Woodrow Wilson during World War I. Roosevelt was James M. Cox's running mate on the Democratic Party's ticket in the 1920 U.S. presidential election, but Cox lost to Republican nominee Warren G. Harding. In 1921, Roosevelt contracted a paralytic illness that permanently paralyzed his legs. Partly through the encouragement of his wife, Eleanor Roosevelt, he returned to public office as governor of New York from 1929 to 1933, during which he promoted programs to combat the Great Depression. In the 1932 presidential election, Roosevelt defeated Republican president Herbert Hoover in a landslide.\n",
    "During his first 100 days as president, Roosevelt spearheaded unprecedented federal legislation and directed the federal government during most of the Great Depression, implementing the New Deal in response to the most significant economic crisis in American history. He also built the New Deal coalition, realigning American politics into the Fifth Party System and defining American liberalism throughout the mid-20th century. He created numerous programs to provide relief to the unemployed and farmers while seeking economic recovery with the National Recovery Administration and other programs. He also instituted major regulatory reforms related to finance, communications, and labor, and presided over the end of Prohibition. In 1936, Roosevelt won a landslide reelection with the economy having improved from 1933, but the economy relapsed into a deep recession in 1937 and 1938. He was unable to expand the Supreme Court in 1937, the same year the conservative coalition was formed to block the implementation of further New Deal programs and reforms. Major surviving programs and legislation implemented under Roosevelt include the Securities and Exchange Commission, the National Labor Relations Act, the Federal Deposit Insurance Corporation, and Social Security. In 1940, he ran successfully for reelection, one entire term before the official implementation of term limits.\"\"\""
   ]
  },
  {
   "cell_type": "code",
   "execution_count": 30,
   "metadata": {},
   "outputs": [
    {
     "name": "stdout",
     "output_type": "stream",
     "text": [
      "Hugging Face Summary: [{'summary_text': 'Franklin Delano Roosevelt (January 30, 1882 – April 12, 1945) was an American statesman and politician. He served as the 32nd president of the United States from 1933 until his death in 1945. He was a member of the Democratic Party and is the only U.S. president to have served more than two'}]\n",
      "Time taken: 4.393104076385498\n",
      "CPU used: 72.30000000000001 %\n",
      "Memory used: 561.921875 MB\n"
     ]
    }
   ],
   "source": [
    "from transformers import pipeline\n",
    "import time\n",
    "import psutil\n",
    "\n",
    "hf_summarizer = pipeline(\"summarization\", model=\"facebook/bart-large-cnn\")\n",
    "\n",
    "hf_start_time = time.time()\n",
    "hf_start_cpu = psutil.cpu_percent(interval=None)\n",
    "hf_start_mem = psutil.virtual_memory().used\n",
    "\n",
    "hf_summary = hf_summarizer(sample_text, max_length=70, min_length=40, do_sample=False)\n",
    "\n",
    "hf_duration = time.time() - hf_start_time\n",
    "hf_end_cpu = psutil.cpu_percent(interval=None)\n",
    "hf_end_mem = psutil.virtual_memory().used\n",
    "\n",
    "print(\"Hugging Face Summary:\", hf_summary)\n",
    "print(\"Time taken:\", hf_duration)\n",
    "print(\"CPU used:\", hf_end_cpu - hf_start_cpu, \"%\")\n",
    "print(\"Memory used:\", (hf_end_mem - hf_start_mem) / (1024 * 1024), \"MB\")\n",
    "\n"
   ]
  },
  {
   "cell_type": "code",
   "execution_count": 29,
   "metadata": {},
   "outputs": [
    {
     "name": "stdout",
     "output_type": "stream",
     "text": [
      "SUMY Summary:\n",
      "Franklin Delano Roosevelt (January 30, 1882 – April 12, 1945), commonly known by his initials FDR, was an American statesman and politician who served as the 32nd president of the United States from 1933 until his death in 1945.\n",
      "In 1921, Roosevelt contracted a paralytic illness that permanently paralyzed his legs.\n",
      "He created numerous programs to provide relief to the unemployed and farmers while seeking economic recovery with the National Recovery Administration and other programs.\n",
      "In 1936, Roosevelt won a landslide reelection with the economy having improved from 1933, but the economy relapsed into a deep recession in 1937 and 1938.\n",
      "Time taken: 0.005667924880981445\n",
      "CPU used: 32.5 %\n",
      "Memory used: 1.125 MB\n"
     ]
    }
   ],
   "source": [
    "from sumy.parsers.plaintext import PlaintextParser\n",
    "from sumy.nlp.tokenizers import Tokenizer\n",
    "from sumy.summarizers.lsa import LsaSummarizer\n",
    "\n",
    "\n",
    "sumy_start_time = time.time()\n",
    "sumy_start_cpu = psutil.cpu_percent(interval=None)\n",
    "sumy_start_mem = psutil.virtual_memory().used\n",
    "\n",
    "\n",
    "parser = PlaintextParser.from_string(sample_text, Tokenizer(\"english\"))\n",
    "\n",
    "\n",
    "summarizer = LsaSummarizer()\n",
    "\n",
    "summary = summarizer(parser.document, sentences_count=4)  \n",
    "\n",
    "sumy_duration = time.time() - sumy_start_time\n",
    "sumy_end_cpu = psutil.cpu_percent(interval=None)\n",
    "sumy_end_mem = psutil.virtual_memory().used\n",
    "\n",
    "print(\"SUMY Summary:\")\n",
    "for sentence in summary:\n",
    "    print(sentence)\n",
    "print(\"Time taken:\", sumy_duration)\n",
    "print(\"CPU used:\", sumy_end_cpu - sumy_start_cpu, \"%\")\n",
    "print(\"Memory used:\", (sumy_end_mem - sumy_start_mem) / (1024 * 1024), \"MB\")\n",
    "\n"
   ]
  },
  {
   "cell_type": "code",
   "execution_count": 26,
   "metadata": {},
   "outputs": [
    {
     "name": "stdout",
     "output_type": "stream",
     "text": [
      "BERT Summary:\n",
      "In 1921, Roosevelt contracted a paralytic illness that permanently paralyzed his legs.\n",
      "Time taken: 164.8754689693451\n",
      "CPU used: 25.4 %\n",
      "Memory used: 415.171875 MB\n"
     ]
    }
   ],
   "source": [
    "from summarizer import Summarizer\n",
    "\n",
    "bert_start_time = time.time()\n",
    "bert_start_cpu = psutil.cpu_percent(interval=None)\n",
    "bert_start_mem = psutil.virtual_memory().used\n",
    "\n",
    "summarizer = Summarizer()\n",
    "\n",
    "summary = summarizer(sample_text, min_length=40, max_length=100)  \n",
    "\n",
    "bert_duration = time.time() - start_time\n",
    "bert_end_cpu = psutil.cpu_percent(interval=None)\n",
    "bert_end_mem = psutil.virtual_memory().used\n",
    "\n",
    "print(\"BERT Summary:\")\n",
    "print(summary)\n",
    "print(\"Time taken:\", bert_duration)\n",
    "print(\"CPU used:\", bert_end_cpu - bert_start_cpu, \"%\")\n",
    "print(\"Memory used:\", (bert_end_mem - bert_start_mem) / (1024 * 1024), \"MB\")"
   ]
  }
 ],
 "metadata": {
  "kernelspec": {
   "display_name": "Python 3",
   "language": "python",
   "name": "python3"
  },
  "language_info": {
   "codemirror_mode": {
    "name": "ipython",
    "version": 3
   },
   "file_extension": ".py",
   "mimetype": "text/x-python",
   "name": "python",
   "nbconvert_exporter": "python",
   "pygments_lexer": "ipython3",
   "version": "3.9.6"
  }
 },
 "nbformat": 4,
 "nbformat_minor": 2
}
